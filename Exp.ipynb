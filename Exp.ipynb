{
 "cells": [
  {
   "cell_type": "code",
   "execution_count": 1,
   "metadata": {},
   "outputs": [],
   "source": [
    "import glob\n",
    "import numpy as np\n",
    "import matplotlib.pyplot as plt\n",
    "from collections import defaultdict as dd\n",
    "import cv2\n",
    "from skimage import exposure, color, io\n",
    "from skimage.feature import hog\n",
    "from scipy.fftpack import dct\n",
    "from sklearn.model_selection import StratifiedKFold\n",
    "from sklearn.metrics import accuracy_score\n",
    "from collections import Counter"
   ]
  },
  {
   "cell_type": "code",
   "execution_count": 2,
   "metadata": {},
   "outputs": [],
   "source": [
    "directories = glob.glob('../data/*')\n",
    "directories.remove('../data/README')\n",
    "\n",
    "image_files = {}\n",
    "\n",
    "for dir in directories:\n",
    "    if not image_files.get(dir.split('/')[-1]):\n",
    "        image_files[dir.split('/')[-1]] = list()\n",
    "    image_files[dir.split('/')[-1]] += glob.glob(dir + '/*')"
   ]
  },
  {
   "cell_type": "code",
   "execution_count": 3,
   "metadata": {},
   "outputs": [],
   "source": [
    "data = np.zeros((40, 10, 112, 92))\n",
    "target = []\n",
    "\n",
    "for i, label in enumerate(image_files):\n",
    "    for image_num in range(10):\n",
    "        data[i, image_num] = color.rgb2gray(\n",
    "            io.imread(image_files[label][image_num])\n",
    "        )\n",
    "        target.append(label)"
   ]
  },
  {
   "cell_type": "code",
   "execution_count": 4,
   "metadata": {},
   "outputs": [],
   "source": [
    "class KNeighborsClassifier:\n",
    "    \n",
    "    def __init__(self, feature_to_use='hist', slice_fft=20, slice_dct=20, image_scale=4, gradient_param=8, n_neighbors=4):\n",
    "        self.feature_to_use = feature_to_use\n",
    "        self.slice_fft = slice_fft\n",
    "        self.slice_dct = slice_dct\n",
    "        self.image_scale = image_scale\n",
    "        self.gradient_param = gradient_param\n",
    "        self.n_neighbors = n_neighbors\n",
    "\n",
    "    def preprocess_one_image(self, image):\n",
    "        if self.feature_to_use == 'hist':\n",
    "            return exposure.histogram(image)[0]\n",
    "        if self.feature_to_use == 'fft':\n",
    "            fft2 = np.fft.fft2(image)\n",
    "            fft2 = fft2[:self.slice_fft, :self.slice_fft]\n",
    "            return np.real(fft2).reshape(-1)\n",
    "        if self.feature_to_use == 'dct':\n",
    "            dct_ = dct(image.T).T\n",
    "            dct_ = dct(dct_)\n",
    "            return dct_[:self.slice_dct, :self.slice_dct].reshape(-1)\n",
    "        if self.feature_to_use == 'scale':\n",
    "            return cv2.resize(\n",
    "                image, \n",
    "                (int(image.shape[0] / self.image_scale), int(image.shape[1] / self.image_scale))\n",
    "            ).reshape(-1)\n",
    "        else:\n",
    "            return hog(\n",
    "                image, \n",
    "                orientations=8, \n",
    "                pixels_per_cell=(self.gradient_param, self.gradient_param), \n",
    "                cells_per_block=(1, 1)\n",
    "            )\n",
    "    \n",
    "    def get_class(self, image):\n",
    "        processed = self.preprocess_one_image(image)\n",
    "        euclid_distances = np.linalg.norm(processed - self.processed_data, axis=1)\n",
    "        min_sum = float('inf')\n",
    "        min_idx = -1\n",
    "        step = int(len(euclid_distances) / 40)\n",
    "        for i in range(0, len(euclid_distances), step):\n",
    "            i_min, i_max = i, i + step\n",
    "            sorted_distances = list(sorted(euclid_distances[i_min:i_max]))\n",
    "            current_sum = sum(sorted_distances[:self.n_neighbors])\n",
    "            if current_sum < min_sum:\n",
    "                min_idx = i\n",
    "                min_sum = current_sum\n",
    "        return self.target[min_idx]\n",
    "    \n",
    "    def fit(self, images, targets):\n",
    "        self.processed_data = []\n",
    "        for image in images:\n",
    "            self.processed_data.append(self.preprocess_one_image(image))\n",
    "        self.processed_data = np.array(self.processed_data)\n",
    "        self.target = targets\n",
    "        \n",
    "    def predict_one(self, image):\n",
    "        return self.get_class(image)\n",
    "        \n",
    "    def predict(self, images):\n",
    "        return [self.predict_one(image) for image in images]"
   ]
  },
  {
   "cell_type": "code",
   "execution_count": 5,
   "metadata": {
    "scrolled": true
   },
   "outputs": [
    {
     "name": "stdout",
     "output_type": "stream",
     "text": [
      "scale 1.0\n",
      "fft 1.0\n",
      "dct 1.0\n",
      "hist 0.99\n",
      "hog 1.0\n"
     ]
    }
   ],
   "source": [
    "X, y = data.reshape((400, 112, 92)), np.array(target)\n",
    "for feature in ['scale', 'fft', 'dct', 'hist', 'hog']:\n",
    "    clf = KNeighborsClassifier(feature_to_use=feature, n_neighbors=3)\n",
    "    clf.fit(X, y)\n",
    "    print(feature, accuracy_score(y, clf.predict(X)))"
   ]
  },
  {
   "cell_type": "code",
   "execution_count": 6,
   "metadata": {},
   "outputs": [
    {
     "name": "stdout",
     "output_type": "stream",
     "text": [
      "accuracy is: \t0.9725\tn_neighbors is: \t1\tscale parameter is: \t2\n",
      "accuracy is: \t0.9725\tn_neighbors is: \t1\tscale parameter is: \t3\n",
      "accuracy is: \t0.9675\tn_neighbors is: \t1\tscale parameter is: \t4\n",
      "accuracy is: \t0.9675\tn_neighbors is: \t1\tscale parameter is: \t5\n",
      "accuracy is: \t0.9775\tn_neighbors is: \t2\tscale parameter is: \t2\n",
      "accuracy is: \t0.9675\tn_neighbors is: \t2\tscale parameter is: \t3\n",
      "accuracy is: \t0.965\tn_neighbors is: \t2\tscale parameter is: \t4\n",
      "accuracy is: \t0.97\tn_neighbors is: \t2\tscale parameter is: \t5\n",
      "accuracy is: \t0.9675\tn_neighbors is: \t3\tscale parameter is: \t2\n",
      "accuracy is: \t0.9725\tn_neighbors is: \t3\tscale parameter is: \t3\n",
      "accuracy is: \t0.9625\tn_neighbors is: \t3\tscale parameter is: \t4\n",
      "accuracy is: \t0.965\tn_neighbors is: \t3\tscale parameter is: \t5\n",
      "accuracy is: \t0.95\tn_neighbors is: \t4\tscale parameter is: \t2\n",
      "accuracy is: \t0.955\tn_neighbors is: \t4\tscale parameter is: \t3\n",
      "accuracy is: \t0.9375\tn_neighbors is: \t4\tscale parameter is: \t4\n",
      "accuracy is: \t0.9525\tn_neighbors is: \t4\tscale parameter is: \t5\n",
      "accuracy is: \t0.935\tn_neighbors is: \t5\tscale parameter is: \t2\n",
      "accuracy is: \t0.9225\tn_neighbors is: \t5\tscale parameter is: \t3\n",
      "accuracy is: \t0.9275\tn_neighbors is: \t5\tscale parameter is: \t4\n",
      "accuracy is: \t0.9175\tn_neighbors is: \t5\tscale parameter is: \t5\n"
     ]
    }
   ],
   "source": [
    "for n_neighbors in range(1, 6):\n",
    "    for image_scale in range(2, 6):\n",
    "        oof = np.zeros_like(y)\n",
    "        kfold_validation = StratifiedKFold(n_splits=5, shuffle=True)\n",
    "\n",
    "        for train_index, test_index in kfold_validation.split(X, y):\n",
    "            model = KNeighborsClassifier(feature_to_use='scale', image_scale=image_scale, n_neighbors=n_neighbors)\n",
    "            model.fit(X[train_index], y[train_index])\n",
    "            oof[test_index] = model.predict(X[test_index])\n",
    "        print('accuracy is: ', accuracy_score(y, oof), 'n_neighbors is: ', n_neighbors, 'scale parameter is: ', image_scale, sep='\\t')"
   ]
  },
  {
   "cell_type": "code",
   "execution_count": 7,
   "metadata": {
    "scrolled": true
   },
   "outputs": [
    {
     "name": "stdout",
     "output_type": "stream",
     "text": [
      "accuracy is: \t0.9825\tn_neighbors is: \t1\tslice DCT is: \t15\n",
      "accuracy is: \t0.975\tn_neighbors is: \t1\tslice DCT is: \t16\n",
      "accuracy is: \t0.9825\tn_neighbors is: \t1\tslice DCT is: \t17\n",
      "accuracy is: \t0.985\tn_neighbors is: \t1\tslice DCT is: \t18\n",
      "accuracy is: \t0.9825\tn_neighbors is: \t1\tslice DCT is: \t19\n",
      "accuracy is: \t0.9725\tn_neighbors is: \t2\tslice DCT is: \t15\n",
      "accuracy is: \t0.9725\tn_neighbors is: \t2\tslice DCT is: \t16\n",
      "accuracy is: \t0.9575\tn_neighbors is: \t2\tslice DCT is: \t17\n",
      "accuracy is: \t0.9675\tn_neighbors is: \t2\tslice DCT is: \t18\n",
      "accuracy is: \t0.9675\tn_neighbors is: \t2\tslice DCT is: \t19\n",
      "accuracy is: \t0.9575\tn_neighbors is: \t3\tslice DCT is: \t15\n",
      "accuracy is: \t0.955\tn_neighbors is: \t3\tslice DCT is: \t16\n",
      "accuracy is: \t0.955\tn_neighbors is: \t3\tslice DCT is: \t17\n",
      "accuracy is: \t0.97\tn_neighbors is: \t3\tslice DCT is: \t18\n",
      "accuracy is: \t0.965\tn_neighbors is: \t3\tslice DCT is: \t19\n",
      "accuracy is: \t0.955\tn_neighbors is: \t4\tslice DCT is: \t15\n",
      "accuracy is: \t0.9425\tn_neighbors is: \t4\tslice DCT is: \t16\n",
      "accuracy is: \t0.945\tn_neighbors is: \t4\tslice DCT is: \t17\n",
      "accuracy is: \t0.955\tn_neighbors is: \t4\tslice DCT is: \t18\n",
      "accuracy is: \t0.93\tn_neighbors is: \t4\tslice DCT is: \t19\n",
      "accuracy is: \t0.93\tn_neighbors is: \t5\tslice DCT is: \t15\n",
      "accuracy is: \t0.94\tn_neighbors is: \t5\tslice DCT is: \t16\n",
      "accuracy is: \t0.95\tn_neighbors is: \t5\tslice DCT is: \t17\n",
      "accuracy is: \t0.9425\tn_neighbors is: \t5\tslice DCT is: \t18\n",
      "accuracy is: \t0.9475\tn_neighbors is: \t5\tslice DCT is: \t19\n"
     ]
    }
   ],
   "source": [
    "for n_neighbors in range(1, 6):\n",
    "    for slice_dct in range(15, 20):\n",
    "        oof = np.zeros_like(y)\n",
    "        kfold_validation = StratifiedKFold(n_splits=5, shuffle=True)\n",
    "\n",
    "        for train_index, test_index in kfold_validation.split(X, y):\n",
    "            model = KNeighborsClassifier(feature_to_use='dct', slice_dct=slice_dct, n_neighbors=n_neighbors)\n",
    "            model.fit(X[train_index], y[train_index])\n",
    "            oof[test_index] = model.predict(X[test_index])\n",
    "        print('accuracy is: ', accuracy_score(y, oof), 'n_neighbors is: ', n_neighbors, 'slice DCT is: ', slice_dct, sep='\\t')"
   ]
  },
  {
   "cell_type": "code",
   "execution_count": 14,
   "metadata": {},
   "outputs": [
    {
     "name": "stdout",
     "output_type": "stream",
     "text": [
      "accuracy is: \t0.9675\tn_neighbors is: \t1\tslice DFT is: \t15\n",
      "accuracy is: \t0.9725\tn_neighbors is: \t1\tslice DFT is: \t16\n",
      "accuracy is: \t0.9575\tn_neighbors is: \t1\tslice DFT is: \t17\n",
      "accuracy is: \t0.955\tn_neighbors is: \t1\tslice DFT is: \t18\n",
      "accuracy is: \t0.9575\tn_neighbors is: \t1\tslice DFT is: \t19\n",
      "accuracy is: \t0.9475\tn_neighbors is: \t2\tslice DFT is: \t15\n",
      "accuracy is: \t0.95\tn_neighbors is: \t2\tslice DFT is: \t16\n",
      "accuracy is: \t0.9425\tn_neighbors is: \t2\tslice DFT is: \t17\n",
      "accuracy is: \t0.9525\tn_neighbors is: \t2\tslice DFT is: \t18\n",
      "accuracy is: \t0.945\tn_neighbors is: \t2\tslice DFT is: \t19\n",
      "accuracy is: \t0.9275\tn_neighbors is: \t3\tslice DFT is: \t15\n",
      "accuracy is: \t0.925\tn_neighbors is: \t3\tslice DFT is: \t16\n",
      "accuracy is: \t0.9325\tn_neighbors is: \t3\tslice DFT is: \t17\n",
      "accuracy is: \t0.9275\tn_neighbors is: \t3\tslice DFT is: \t18\n",
      "accuracy is: \t0.925\tn_neighbors is: \t3\tslice DFT is: \t19\n",
      "accuracy is: \t0.9025\tn_neighbors is: \t4\tslice DFT is: \t15\n",
      "accuracy is: \t0.91\tn_neighbors is: \t4\tslice DFT is: \t16\n",
      "accuracy is: \t0.9\tn_neighbors is: \t4\tslice DFT is: \t17\n",
      "accuracy is: \t0.915\tn_neighbors is: \t4\tslice DFT is: \t18\n",
      "accuracy is: \t0.9125\tn_neighbors is: \t4\tslice DFT is: \t19\n",
      "accuracy is: \t0.8975\tn_neighbors is: \t5\tslice DFT is: \t15\n",
      "accuracy is: \t0.9025\tn_neighbors is: \t5\tslice DFT is: \t16\n",
      "accuracy is: \t0.8825\tn_neighbors is: \t5\tslice DFT is: \t17\n",
      "accuracy is: \t0.8875\tn_neighbors is: \t5\tslice DFT is: \t18\n",
      "accuracy is: \t0.8925\tn_neighbors is: \t5\tslice DFT is: \t19\n"
     ]
    }
   ],
   "source": [
    "for n_neighbors in range(1, 6):\n",
    "    for slice_fft in range(15, 20):\n",
    "        oof = np.zeros_like(y)\n",
    "        kfold_validation = StratifiedKFold(n_splits=5, shuffle=True)\n",
    "\n",
    "        for train_index, test_index in kfold_validation.split(X, y):\n",
    "            model = KNeighborsClassifier(feature_to_use='fft', slice_fft=slice_fft, n_neighbors=n_neighbors)\n",
    "            model.fit(X[train_index], y[train_index])\n",
    "            oof[test_index] = model.predict(X[test_index])\n",
    "        print('accuracy is: ', accuracy_score(y, oof), 'n_neighbors is: ', n_neighbors, 'slice DFT is: ', slice_fft, sep='\\t')"
   ]
  },
  {
   "cell_type": "code",
   "execution_count": 9,
   "metadata": {},
   "outputs": [
    {
     "name": "stdout",
     "output_type": "stream",
     "text": [
      "accuracy is: \t0.9375\tn_neighbors is: \t1\tgradient area is: \t7\n",
      "accuracy is: \t0.9525\tn_neighbors is: \t1\tgradient area is: \t8\n",
      "accuracy is: \t0.955\tn_neighbors is: \t1\tgradient area is: \t9\n",
      "accuracy is: \t0.9275\tn_neighbors is: \t2\tgradient area is: \t7\n",
      "accuracy is: \t0.9425\tn_neighbors is: \t2\tgradient area is: \t8\n",
      "accuracy is: \t0.9275\tn_neighbors is: \t2\tgradient area is: \t9\n",
      "accuracy is: \t0.92\tn_neighbors is: \t3\tgradient area is: \t7\n",
      "accuracy is: \t0.9325\tn_neighbors is: \t3\tgradient area is: \t8\n",
      "accuracy is: \t0.915\tn_neighbors is: \t3\tgradient area is: \t9\n",
      "accuracy is: \t0.9\tn_neighbors is: \t4\tgradient area is: \t7\n",
      "accuracy is: \t0.9\tn_neighbors is: \t4\tgradient area is: \t8\n",
      "accuracy is: \t0.8775\tn_neighbors is: \t4\tgradient area is: \t9\n",
      "accuracy is: \t0.88\tn_neighbors is: \t5\tgradient area is: \t7\n",
      "accuracy is: \t0.8825\tn_neighbors is: \t5\tgradient area is: \t8\n",
      "accuracy is: \t0.8575\tn_neighbors is: \t5\tgradient area is: \t9\n"
     ]
    }
   ],
   "source": [
    "for n_neighbors in range(1, 6):\n",
    "    for gradient_param in range(7, 10):\n",
    "        oof = np.zeros_like(y)\n",
    "        kfold_validation = StratifiedKFold(n_splits=5, shuffle=True)\n",
    "\n",
    "        for train_index, test_index in kfold_validation.split(X, y):\n",
    "            model = KNeighborsClassifier(feature_to_use='hog', gradient_param=gradient_param, n_neighbors=n_neighbors)\n",
    "            model.fit(X[train_index], y[train_index])\n",
    "            oof[test_index] = model.predict(X[test_index])\n",
    "        print('accuracy is: ', accuracy_score(y, oof), 'n_neighbors is: ', n_neighbors, 'gradient area is: ', gradient_param, sep='\\t')"
   ]
  },
  {
   "cell_type": "code",
   "execution_count": 15,
   "metadata": {},
   "outputs": [
    {
     "name": "stdout",
     "output_type": "stream",
     "text": [
      "accuracy is: \t0.405\tn_neighbors is: \t1\n",
      "accuracy is: \t0.435\tn_neighbors is: \t2\n",
      "accuracy is: \t0.455\tn_neighbors is: \t3\n",
      "accuracy is: \t0.4925\tn_neighbors is: \t4\n",
      "accuracy is: \t0.48\tn_neighbors is: \t5\n"
     ]
    }
   ],
   "source": [
    "for n_neighbors in range(1, 6):\n",
    "    oof = np.zeros_like(y)\n",
    "    kfold_validation = StratifiedKFold(n_splits=5, shuffle=True)\n",
    "\n",
    "    for train_index, test_index in kfold_validation.split(X, y):\n",
    "        model = KNeighborsClassifier(feature_to_use='hist', slice_dct=slice_dct, n_neighbors=n_neighbors)\n",
    "        model.fit(X[train_index], y[train_index])\n",
    "        oof[test_index] = model.predict(X[test_index])\n",
    "    print('accuracy is: ', accuracy_score(y, oof), 'n_neighbors is: ', n_neighbors, sep='\\t')"
   ]
  },
  {
   "cell_type": "code",
   "execution_count": 11,
   "metadata": {},
   "outputs": [
    {
     "data": {
      "text/plain": [
       "[<matplotlib.lines.Line2D at 0x1a25a48550>]"
      ]
     },
     "execution_count": 11,
     "metadata": {},
     "output_type": "execute_result"
    },
    {
     "data": {
      "image/png": "[encoded data removed]",
      "text/plain": [
       "<Figure size 432x288 with 1 Axes>"
      ]
     },
     "metadata": {
      "needs_background": "light"
     },
     "output_type": "display_data"
    }
   ],
   "source": [
    "predicts_by_n = []\n",
    "for number_of_images in range(1, 10):\n",
    "    X_train = data[:, :number_of_images, :, :].reshape(40 * number_of_images, 112, 92)\n",
    "    X_test = data[:, -1, :, :].reshape(40, 112, 92)\n",
    "    y_train = np.array(target).reshape(40, -1)[:, :number_of_images].reshape(-1)\n",
    "    y_test = np.array(target).reshape(40, -1)[:, -1].reshape(-1)\n",
    "    model = KNeighborsClassifier(feature_to_use='dct', slice_dct=19)\n",
    "    model.fit(X_train, y_train)\n",
    "    predicts_by_n.append(accuracy_score(y_test, model.predict(X_test)))\n",
    "    \n",
    "plt.plot(predicts_by_n)"
   ]
  },
  {
   "cell_type": "code",
   "execution_count": 12,
   "metadata": {},
   "outputs": [],
   "source": [
    "class VotingClassifier:\n",
    "    def __init__(self, classifiers):\n",
    "        self.classifiers = classifiers\n",
    "        \n",
    "    def fit(self, X, y):\n",
    "        for c in self.classifiers:\n",
    "            c.fit(X, y)\n",
    "            \n",
    "    def predict(self, X):\n",
    "        answers_temp = []\n",
    "        for c in self.classifiers:\n",
    "            answers_temp.append(c.predict(X))\n",
    "            \n",
    "        answers_final = []\n",
    "        for preds in zip(*answers_temp):\n",
    "            answer = Counter(preds).most_common(1)[0][0]\n",
    "            answers_final.append(answer)\n",
    "        \n",
    "        return answers_final"
   ]
  },
  {
   "cell_type": "code",
   "execution_count": 13,
   "metadata": {},
   "outputs": [
    {
     "name": "stdout",
     "output_type": "stream",
     "text": [
      "accuracy is:  0.9775\n"
     ]
    }
   ],
   "source": [
    "oof = np.zeros_like(y)\n",
    "kfold_validation = StratifiedKFold(n_splits=5, shuffle=True)\n",
    "\n",
    "for train_index, test_index in kfold_validation.split(X, y):\n",
    "    voting_classifier = VotingClassifier(\n",
    "        [\n",
    "            KNeighborsClassifier(feature_to_use='dct', slice_dct=18, n_neighbors=1),\n",
    "            KNeighborsClassifier(feature_to_use='fft', slice_dct=17, n_neighbors=1),\n",
    "            KNeighborsClassifier(feature_to_use='hog', gradient_param=8, n_neighbors=1),\n",
    "            KNeighborsClassifier(feature_to_use='scale', slice_dct=2, n_neighbors=2)\n",
    "        ]\n",
    "    )\n",
    "    voting_classifier.fit(X[train_index], y[train_index])\n",
    "    oof[test_index] = voting_classifier.predict(X[test_index])\n",
    "print('accuracy is: ', accuracy_score(y, oof))"
   ]
  },
  {
   "cell_type": "code",
   "execution_count": null,
   "metadata": {},
   "outputs": [],
   "source": []
  },
  {
   "cell_type": "code",
   "execution_count": null,
   "metadata": {},
   "outputs": [],
   "source": []
  },
  {
   "cell_type": "code",
   "execution_count": null,
   "metadata": {},
   "outputs": [],
   "source": []
  },
  {
   "cell_type": "code",
   "execution_count": null,
   "metadata": {},
   "outputs": [],
   "source": []
  },
  {
   "cell_type": "code",
   "execution_count": null,
   "metadata": {},
   "outputs": [],
   "source": []
  }
 ],
 "metadata": {
  "kernelspec": {
   "display_name": "Python 3",
   "language": "python",
   "name": "python3"
  },
  "language_info": {
   "codemirror_mode": {
    "name": "ipython",
    "version": 3
   },
   "file_extension": ".py",
   "mimetype": "text/x-python",
   "name": "python",
   "nbconvert_exporter": "python",
   "pygments_lexer": "ipython3",
   "version": "3.7.7"
  }
 },
 "nbformat": 4,
 "nbformat_minor": 4
}
